{
 "cells": [
  {
   "cell_type": "code",
   "execution_count": null,
   "metadata": {},
   "outputs": [],
   "source": [
    "from pyspark.sql import Row\n",
    "import socket\n",
    "import os"
   ]
  },
  {
   "cell_type": "code",
   "execution_count": 2,
   "metadata": {},
   "outputs": [],
   "source": [
    "def create_data(x):\n",
    "    hostname = socket.gethostname()\n",
    "    pid = os.getpid()\n",
    "    return Row(x=x, times2x=2*x, hostname=hostname, pid=pid)"
   ]
  },
  {
   "cell_type": "code",
   "execution_count": 3,
   "metadata": {},
   "outputs": [],
   "source": [
    "rdd1 = sc.parallelize(range(2000))\n",
    "df = spark.createDataFrame(rdd1.map(lambda x: create_data(x))).cache()"
   ]
  },
  {
   "cell_type": "code",
   "execution_count": 4,
   "metadata": {},
   "outputs": [],
   "source": [
    "df.createOrReplaceTempView('my_table')"
   ]
  },
  {
   "cell_type": "code",
   "execution_count": 5,
   "metadata": {},
   "outputs": [
    {
     "name": "stdout",
     "output_type": "stream",
     "text": [
      "+-------------+---+-------+---+\n",
      "|     hostname|pid|times2x|  x|\n",
      "+-------------+---+-------+---+\n",
      "|spark-worker2|751|    500|250|\n",
      "|spark-worker2|751|    502|251|\n",
      "|spark-worker2|751|    504|252|\n",
      "|spark-worker2|751|    506|253|\n",
      "|spark-worker2|751|    508|254|\n",
      "+-------------+---+-------+---+\n",
      "\n"
     ]
    }
   ],
   "source": [
    "spark.sql(\"select * from my_table limit 5\").show()"
   ]
  },
  {
   "cell_type": "code",
   "execution_count": 6,
   "metadata": {},
   "outputs": [
    {
     "name": "stdout",
     "output_type": "stream",
     "text": [
      "+-------------+---+-------------+\n",
      "|     hostname|pid|element_count|\n",
      "+-------------+---+-------------+\n",
      "|spark-worker1|763|          250|\n",
      "|spark-worker1|766|          250|\n",
      "|spark-worker1|768|          250|\n",
      "|spark-worker1|772|          250|\n",
      "|spark-worker2|751|          250|\n",
      "|spark-worker2|752|          250|\n",
      "|spark-worker2|753|          250|\n",
      "|spark-worker2|757|          250|\n",
      "+-------------+---+-------------+\n",
      "\n"
     ]
    }
   ],
   "source": [
    "spark.sql(\"\"\"\n",
    "select hostname, pid, count(*) as element_count \n",
    "from my_table \n",
    "group by hostname, pid\n",
    "order by hostname, pid\n",
    "\"\"\").show()"
   ]
  }
 ],
 "metadata": {
  "kernelspec": {
   "display_name": "Python 3",
   "language": "python",
   "name": "python3"
  },
  "language_info": {
   "codemirror_mode": {
    "name": "ipython",
    "version": 3
   },
   "file_extension": ".py",
   "mimetype": "text/x-python",
   "name": "python",
   "nbconvert_exporter": "python",
   "pygments_lexer": "ipython3",
   "version": "3.7.0"
  }
 },
 "nbformat": 4,
 "nbformat_minor": 2
}

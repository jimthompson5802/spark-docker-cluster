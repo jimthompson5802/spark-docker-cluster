{
 "cells": [
  {
   "cell_type": "code",
   "execution_count": 1,
   "metadata": {},
   "outputs": [],
   "source": [
    "import numpy as np\n",
    "import os\n",
    "from collections import namedtuple\n",
    "from pyspark.sql import SparkSession, Row"
   ]
  },
  {
   "cell_type": "code",
   "execution_count": 2,
   "metadata": {},
   "outputs": [],
   "source": [
    "sc = spark.sparkContext\n",
    "sc.setLogLevel('WARN')"
   ]
  },
  {
   "cell_type": "code",
   "execution_count": 5,
   "metadata": {},
   "outputs": [
    {
     "name": "stdout",
     "output_type": "stream",
     "text": [
      "+------+------+------+------+------+------+------+------+--------+--------+\n",
      "|   X_1|   X_2|   X_3|   X_4|   X_5|   X_6|   X_7|   X_8|part_id1|part_id2|\n",
      "+------+------+------+------+------+------+------+------+--------+--------+\n",
      "| 1.764|   0.4| 0.979| 2.241| 1.868|-0.977|  0.95|-0.151|       b|       x|\n",
      "|-0.103| 0.411| 0.144| 1.454| 0.761| 0.122| 0.444| 0.334|       b|       y|\n",
      "| 1.494|-0.205| 0.313|-0.854|-2.553| 0.654| 0.864|-0.742|       d|       z|\n",
      "|  2.27|-1.454| 0.046|-0.187| 1.533| 1.469| 0.155| 0.378|       b|       y|\n",
      "|-0.888|-1.981|-0.348| 0.156|  1.23| 1.202|-0.387|-0.302|       b|       z|\n",
      "+------+------+------+------+------+------+------+------+--------+--------+\n",
      "\n"
     ]
    }
   ],
   "source": [
    "# clean old table\n",
    "answer_df = spark.sql(\"select * from hive_table limit 5\")\n",
    "\n",
    "assert answer_df.first().X_1 == 1.624\n",
    "assert answer_df.first().X_8 == -0.761\n",
    "\n",
    "answer_df.show()"
   ]
  },
  {
   "cell_type": "code",
   "execution_count": 6,
   "metadata": {},
   "outputs": [
    {
     "name": "stdout",
     "output_type": "stream",
     "text": [
      "+---------+\n",
      "|row_count|\n",
      "+---------+\n",
      "|     2000|\n",
      "+---------+\n",
      "\n"
     ]
    }
   ],
   "source": [
    "spark.sql(\"select count(*) as row_count from hive_table\").show()"
   ]
  },
  {
   "cell_type": "code",
   "execution_count": 7,
   "metadata": {},
   "outputs": [
    {
     "name": "stdout",
     "output_type": "stream",
     "text": [
      "+--------+----------+-----------+\n",
      "|database| tableName|isTemporary|\n",
      "+--------+----------+-----------+\n",
      "| default|hive_table|      false|\n",
      "+--------+----------+-----------+\n",
      "\n"
     ]
    }
   ],
   "source": [
    "spark.sql(\"show tables\").show()"
   ]
  },
  {
   "cell_type": "code",
   "execution_count": 8,
   "metadata": {},
   "outputs": [
    {
     "name": "stdout",
     "output_type": "stream",
     "text": [
      "+------------+\n",
      "|databaseName|\n",
      "+------------+\n",
      "|     default|\n",
      "+------------+\n",
      "\n"
     ]
    }
   ],
   "source": [
    "spark.sql(\"show databases\").show()"
   ]
  },
  {
   "cell_type": "code",
   "execution_count": 17,
   "metadata": {},
   "outputs": [],
   "source": [
    "x = spark.sql(\"show create table hive_table\").toPandas()"
   ]
  },
  {
   "cell_type": "code",
   "execution_count": 20,
   "metadata": {},
   "outputs": [
    {
     "name": "stdout",
     "output_type": "stream",
     "text": [
      "CREATE EXTERNAL TABLE `hive_table`(`X_1` double, `X_2` double, `X_3` double, `X_4` double, `X_5` double, `X_6` double, `X_7` double, `X_8` double, `part_id1` string, `part_id2` string)\n",
      "ROW FORMAT SERDE 'org.apache.hadoop.hive.ql.io.parquet.serde.ParquetHiveSerDe'\n",
      "WITH SERDEPROPERTIES (\n",
      "  'serialization.format' = '1'\n",
      ")\n",
      "STORED AS\n",
      "  INPUTFORMAT 'org.apache.hadoop.hive.ql.io.parquet.MapredParquetInputFormat'\n",
      "  OUTPUTFORMAT 'org.apache.hadoop.hive.ql.io.parquet.MapredParquetOutputFormat'\n",
      "LOCATION 'file:/spark/data/my_data_parquet'\n",
      "TBLPROPERTIES (\n",
      "  'transient_lastDdlTime' = '1555795074'\n",
      ")\n",
      "\n"
     ]
    }
   ],
   "source": [
    "print(x.createtab_stmt[0])"
   ]
  },
  {
   "cell_type": "code",
   "execution_count": null,
   "metadata": {},
   "outputs": [],
   "source": []
  }
 ],
 "metadata": {
  "kernelspec": {
   "display_name": "Python 3",
   "language": "python",
   "name": "python3"
  },
  "language_info": {
   "codemirror_mode": {
    "name": "ipython",
    "version": 3
   },
   "file_extension": ".py",
   "mimetype": "text/x-python",
   "name": "python",
   "nbconvert_exporter": "python",
   "pygments_lexer": "ipython3",
   "version": "3.7.0"
  }
 },
 "nbformat": 4,
 "nbformat_minor": 2
}

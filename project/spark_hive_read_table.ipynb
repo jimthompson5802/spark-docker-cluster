{
 "cells": [
  {
   "cell_type": "code",
   "execution_count": 1,
   "metadata": {},
   "outputs": [],
   "source": [
    "import numpy as np\n",
    "import os\n",
    "from collections import namedtuple\n",
    "from pyspark.sql import SparkSession, Row"
   ]
  },
  {
   "cell_type": "code",
   "execution_count": 2,
   "metadata": {},
   "outputs": [],
   "source": [
    "sc = spark.sparkContext\n",
    "sc.setLogLevel('WARN')"
   ]
  },
  {
   "cell_type": "code",
   "execution_count": 3,
   "metadata": {},
   "outputs": [
    {
     "name": "stdout",
     "output_type": "stream",
     "text": [
      "+------+------+------+------+------+------+------+------+--------+--------+\n",
      "|   X_1|   X_2|   X_3|   X_4|   X_5|   X_6|   X_7|   X_8|part_id1|part_id2|\n",
      "+------+------+------+------+------+------+------+------+--------+--------+\n",
      "| 1.624|-0.612|-0.528|-1.073| 0.865|-2.302| 1.745|-0.761|       a|       y|\n",
      "| 0.319|-0.249| 1.462| -2.06|-0.322|-0.384| 1.134|  -1.1|       d|       y|\n",
      "|-0.172|-0.878| 0.042| 0.583|-1.101| 1.145| 0.902| 0.502|       a|       x|\n",
      "| 0.901|-0.684|-0.123|-0.936|-0.268|  0.53|-0.692|-0.397|       c|       x|\n",
      "|-0.687|-0.845|-0.671|-0.013|-1.117| 0.234|  1.66| 0.742|       b|       z|\n",
      "+------+------+------+------+------+------+------+------+--------+--------+\n",
      "\n"
     ]
    }
   ],
   "source": [
    "# clean old table\n",
    "answer_df = spark.sql(\"select * from hive_table limit 5\")\n",
    "\n",
    "assert answer_df.first().X_1 == 1.624\n",
    "assert answer_df.first().X_8 == -0.761\n",
    "\n",
    "answer_df.show()"
   ]
  },
  {
   "cell_type": "code",
   "execution_count": 4,
   "metadata": {},
   "outputs": [
    {
     "name": "stdout",
     "output_type": "stream",
     "text": [
      "+---------+\n",
      "|row_count|\n",
      "+---------+\n",
      "|     2000|\n",
      "+---------+\n",
      "\n"
     ]
    }
   ],
   "source": [
    "spark.sql(\"select count(*) as row_count from hive_table\").show()"
   ]
  },
  {
   "cell_type": "code",
   "execution_count": 5,
   "metadata": {},
   "outputs": [
    {
     "name": "stdout",
     "output_type": "stream",
     "text": [
      "+--------+----------+-----------+\n",
      "|database| tableName|isTemporary|\n",
      "+--------+----------+-----------+\n",
      "| default|hive_table|      false|\n",
      "+--------+----------+-----------+\n",
      "\n"
     ]
    }
   ],
   "source": [
    "spark.sql(\"show tables\").show()"
   ]
  },
  {
   "cell_type": "code",
   "execution_count": 6,
   "metadata": {},
   "outputs": [
    {
     "name": "stdout",
     "output_type": "stream",
     "text": [
      "+------------+\n",
      "|databaseName|\n",
      "+------------+\n",
      "|     default|\n",
      "+------------+\n",
      "\n"
     ]
    }
   ],
   "source": [
    "spark.sql(\"show databases\").show()"
   ]
  },
  {
   "cell_type": "code",
   "execution_count": 7,
   "metadata": {},
   "outputs": [],
   "source": [
    "x = spark.sql(\"show create table hive_table\").toPandas()"
   ]
  },
  {
   "cell_type": "code",
   "execution_count": 8,
   "metadata": {},
   "outputs": [
    {
     "name": "stdout",
     "output_type": "stream",
     "text": [
      "CREATE EXTERNAL TABLE `hive_table`(`X_1` double, `X_2` double, `X_3` double, `X_4` double, `X_5` double, `X_6` double, `X_7` double, `X_8` double, `part_id1` string, `part_id2` string)\n",
      "ROW FORMAT SERDE 'org.apache.hadoop.hive.ql.io.parquet.serde.ParquetHiveSerDe'\n",
      "WITH SERDEPROPERTIES (\n",
      "  'serialization.format' = '1'\n",
      ")\n",
      "STORED AS\n",
      "  INPUTFORMAT 'org.apache.hadoop.hive.ql.io.parquet.MapredParquetInputFormat'\n",
      "  OUTPUTFORMAT 'org.apache.hadoop.hive.ql.io.parquet.MapredParquetOutputFormat'\n",
      "LOCATION 'file:/spark/data/my_data_parquet'\n",
      "TBLPROPERTIES (\n",
      "  'transient_lastDdlTime' = '1555795074'\n",
      ")\n",
      "\n"
     ]
    }
   ],
   "source": [
    "print(x.createtab_stmt[0])"
   ]
  },
  {
   "cell_type": "code",
   "execution_count": null,
   "metadata": {},
   "outputs": [],
   "source": []
  }
 ],
 "metadata": {
  "kernelspec": {
   "display_name": "Python 3",
   "language": "python",
   "name": "python3"
  },
  "language_info": {
   "codemirror_mode": {
    "name": "ipython",
    "version": 3
   },
   "file_extension": ".py",
   "mimetype": "text/x-python",
   "name": "python",
   "nbconvert_exporter": "python",
   "pygments_lexer": "ipython3",
   "version": "3.7.0"
  }
 },
 "nbformat": 4,
 "nbformat_minor": 2
}

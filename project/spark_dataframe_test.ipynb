{
 "cells": [
  {
   "cell_type": "code",
   "execution_count": 1,
   "metadata": {},
   "outputs": [],
   "source": [
    "from pyspark.sql import Row\n",
    "import socket\n",
    "import os"
   ]
  },
  {
   "cell_type": "code",
   "execution_count": 2,
   "metadata": {},
   "outputs": [],
   "source": [
    "def create_data(x):\n",
    "    hostname = socket.gethostname()\n",
    "    pid = os.getpid()\n",
    "    return Row(x=x, times2x=2*x, hostname=hostname, pid=pid)"
   ]
  },
  {
   "cell_type": "code",
   "execution_count": 3,
   "metadata": {},
   "outputs": [],
   "source": [
    "rdd1 = sc.parallelize(range(200))\n",
    "df = spark.createDataFrame(rdd1.map(lambda x: create_data(x))).cache()"
   ]
  },
  {
   "cell_type": "code",
   "execution_count": 4,
   "metadata": {},
   "outputs": [],
   "source": [
    "df.createOrReplaceTempView('my_table')"
   ]
  },
  {
   "cell_type": "code",
   "execution_count": 5,
   "metadata": {},
   "outputs": [
    {
     "name": "stdout",
     "output_type": "stream",
     "text": [
      "+------------+---+-------+---+\n",
      "|    hostname|pid|times2x|  x|\n",
      "+------------+---+-------+---+\n",
      "|eded12736df5|287|      0|  0|\n",
      "|eded12736df5|287|      2|  1|\n",
      "|eded12736df5|287|      4|  2|\n",
      "|eded12736df5|287|      6|  3|\n",
      "|eded12736df5|287|      8|  4|\n",
      "+------------+---+-------+---+\n",
      "\n"
     ]
    }
   ],
   "source": [
    "spark.sql(\"select * from my_table limit 5\").show()"
   ]
  },
  {
   "cell_type": "code",
   "execution_count": 6,
   "metadata": {},
   "outputs": [
    {
     "name": "stdout",
     "output_type": "stream",
     "text": [
      "+------------+---+-------------+\n",
      "|    hostname|pid|element_count|\n",
      "+------------+---+-------------+\n",
      "|c2989c5c13aa|290|           15|\n",
      "|c2989c5c13aa|293|           15|\n",
      "|c2989c5c13aa|297|           14|\n",
      "|c2989c5c13aa|300|           14|\n",
      "|c2989c5c13aa|303|           14|\n",
      "|c2989c5c13aa|306|           14|\n",
      "|c2989c5c13aa|309|           14|\n",
      "|eded12736df5|278|           14|\n",
      "|eded12736df5|281|           14|\n",
      "|eded12736df5|284|           15|\n",
      "|eded12736df5|287|           14|\n",
      "|eded12736df5|290|           14|\n",
      "|eded12736df5|292|           14|\n",
      "|eded12736df5|296|           15|\n",
      "+------------+---+-------------+\n",
      "\n"
     ]
    }
   ],
   "source": [
    "spark.sql(\"\"\"\n",
    "select hostname, pid, count(*) as element_count \n",
    "from my_table \n",
    "group by hostname, pid\n",
    "order by hostname, pid\n",
    "\"\"\").show()"
   ]
  },
  {
   "cell_type": "code",
   "execution_count": null,
   "metadata": {},
   "outputs": [],
   "source": []
  },
  {
   "cell_type": "code",
   "execution_count": null,
   "metadata": {},
   "outputs": [],
   "source": []
  }
 ],
 "metadata": {
  "kernelspec": {
   "display_name": "Python 3",
   "language": "python",
   "name": "python3"
  },
  "language_info": {
   "codemirror_mode": {
    "name": "ipython",
    "version": 3
   },
   "file_extension": ".py",
   "mimetype": "text/x-python",
   "name": "python",
   "nbconvert_exporter": "python",
   "pygments_lexer": "ipython3",
   "version": "3.7.0"
  }
 },
 "nbformat": 4,
 "nbformat_minor": 2
}

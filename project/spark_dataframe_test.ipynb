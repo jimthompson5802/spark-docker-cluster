{
 "cells": [
  {
   "cell_type": "code",
   "execution_count": 8,
   "metadata": {},
   "outputs": [],
   "source": [
    "from pyspark.sql import Row\n",
    "import socket\n",
    "import os"
   ]
  },
  {
   "cell_type": "code",
   "execution_count": 10,
   "metadata": {},
   "outputs": [],
   "source": [
    "def create_data(x):\n",
    "    hostname = socket.gethostname()\n",
    "    pid = os.getpid()\n",
    "    return Row(x=x, times2x=2*x, hostname=hostname, pid=pid)"
   ]
  },
  {
   "cell_type": "code",
   "execution_count": 25,
   "metadata": {},
   "outputs": [],
   "source": [
    "rdd1 = sc.parallelize(range(20))\n",
    "df = spark.createDataFrame(rdd1.map(lambda x: create_data(x))).cache()"
   ]
  },
  {
   "cell_type": "code",
   "execution_count": 26,
   "metadata": {},
   "outputs": [],
   "source": [
    "df.createOrReplaceTempView('my_table')"
   ]
  },
  {
   "cell_type": "code",
   "execution_count": 27,
   "metadata": {},
   "outputs": [
    {
     "name": "stdout",
     "output_type": "stream",
     "text": [
      "+------------+---+-------+---+\n",
      "|    hostname|pid|times2x|  x|\n",
      "+------------+---+-------+---+\n",
      "|73b4bd3ded36|345|      0|  0|\n",
      "|73b4bd3ded36|345|      2|  1|\n",
      "|73b4bd3ded36|350|      4|  2|\n",
      "|73b4bd3ded36|350|      6|  3|\n",
      "|73b4bd3ded36|350|      8|  4|\n",
      "+------------+---+-------+---+\n",
      "\n"
     ]
    }
   ],
   "source": [
    "spark.sql(\"select * from my_table limit 5\").show()"
   ]
  },
  {
   "cell_type": "code",
   "execution_count": 28,
   "metadata": {},
   "outputs": [
    {
     "name": "stdout",
     "output_type": "stream",
     "text": [
      "+------------+---+-------------+\n",
      "|    hostname|pid|element_count|\n",
      "+------------+---+-------------+\n",
      "|73b4bd3ded36|354|            3|\n",
      "|73b4bd3ded36|342|            3|\n",
      "|73b4bd3ded36|357|            3|\n",
      "|73b4bd3ded36|350|            3|\n",
      "|73b4bd3ded36|345|            2|\n",
      "|73b4bd3ded36|360|            3|\n",
      "|73b4bd3ded36|347|            3|\n",
      "+------------+---+-------------+\n",
      "\n"
     ]
    }
   ],
   "source": [
    "spark.sql(\"\"\"\n",
    "select hostname, pid, count(*) as element_count \n",
    "from my_table \n",
    "group by hostname, pid\n",
    "\"\"\").show()"
   ]
  },
  {
   "cell_type": "code",
   "execution_count": null,
   "metadata": {},
   "outputs": [],
   "source": []
  }
 ],
 "metadata": {
  "kernelspec": {
   "display_name": "Python 3",
   "language": "python",
   "name": "python3"
  },
  "language_info": {
   "codemirror_mode": {
    "name": "ipython",
    "version": 3
   },
   "file_extension": ".py",
   "mimetype": "text/x-python",
   "name": "python",
   "nbconvert_exporter": "python",
   "pygments_lexer": "ipython3",
   "version": "3.7.0"
  }
 },
 "nbformat": 4,
 "nbformat_minor": 2
}
